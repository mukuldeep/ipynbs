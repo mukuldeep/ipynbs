{
  "nbformat": 4,
  "nbformat_minor": 0,
  "metadata": {
    "colab": {
      "name": "make btc tx.ipynb",
      "provenance": [],
      "toc_visible": true,
      "collapsed_sections": []
    },
    "kernelspec": {
      "name": "python3",
      "display_name": "Python 3"
    }
  },
  "cells": [
    {
      "cell_type": "code",
      "metadata": {
        "id": "7y_vchd-i6pK"
      },
      "source": [
        "###### \n",
        "!pip install bitcoin\n",
        "!pip install blocksmith"
      ],
      "execution_count": null,
      "outputs": []
    },
    {
      "cell_type": "code",
      "metadata": {
        "id": "4DaNodt1ideu"
      },
      "source": [
        "import hashlib\n",
        "import binascii\n",
        " \n",
        "def prkey_to_wif(private_key_static):\n",
        "  # Step 1: here we have the private key\n",
        "  #private_key_static = \"266fe370e901112783dhjakss36sfre998da5588c7e0dba860f11d65a3adf2736\"\n",
        "  # Step 2: let's add 80 in front of it\n",
        "  extended_key = \"80\"+private_key_static\n",
        "  # Step 3: first SHA-256\n",
        "  first_sha256 = hashlib.sha256(binascii.unhexlify(extended_key)).hexdigest()\n",
        "  # Step 4: second SHA-256\n",
        "  second_sha256 = hashlib.sha256(binascii.unhexlify(first_sha256)).hexdigest()\n",
        "  # Step 5-6: add checksum to end of extended key\n",
        "  final_key = extended_key+second_sha256[:8]\n",
        "  # Step 7: finally the Wallet Import Format is the base 58 encode of final_key\n",
        "  WIF = base58(final_key)\n",
        "  #print(WIF)\n",
        "  return WIF\n",
        "\n",
        "def base58(address_hex):\n",
        "  alphabet = '123456789ABCDEFGHJKLMNPQRSTUVWXYZabcdefghijkmnopqrstuvwxyz'\n",
        "  b58_string = ''\n",
        "  # Get the number of leading zeros and convert hex to decimal\n",
        "  leading_zeros = len(address_hex) - len(address_hex.lstrip('0'))\n",
        "  # Convert hex to decimal\n",
        "  address_int = int(address_hex, 16)\n",
        "  # Append digits to the start of string\n",
        "  while address_int > 0:\n",
        "      digit = address_int % 58\n",
        "      digit_char = alphabet[digit]\n",
        "      b58_string = digit_char + b58_string\n",
        "      address_int //= 58\n",
        "  # Add '1' for each 2 leading zeros\n",
        "  ones = leading_zeros // 2\n",
        "  for one in range(ones):\n",
        "      b58_string = '1' + b58_string\n",
        "  return b58_string\n",
        "\n",
        "#1EEqfoSdWWvGH2mfw5moMHgNzpJR4pr37r\n",
        "pk_wif=prkey_to_wif(\"5e863ywe684898da28047151d0e56f8dc629277366aab128746f721d1542d8\")\n",
        "print(pk_wif)\n",
        "\n"
      ],
      "execution_count": null,
      "outputs": []
    },
    {
      "cell_type": "markdown",
      "metadata": {
        "id": "g-tzJaMkgMhY"
      },
      "source": [
        "# **python bitcoinlib**"
      ]
    },
    {
      "cell_type": "code",
      "metadata": {
        "id": "9dqRipx8f8HH"
      },
      "source": [
        "#https://pypi.org/project/bitcoinlib/\n",
        "!apt-get install libgmp-dev\n",
        "!pip install fastecdsa\n",
        "!pip install bitcoinlib\n"
      ],
      "execution_count": null,
      "outputs": []
    },
    {
      "cell_type": "code",
      "metadata": {
        "id": "TsUaDDzygh67"
      },
      "source": [
        "from bitcoinlib.wallets import Wallet\n",
        "w = Wallet.create('Wallet1')\n",
        "key1 = w.get_key('3uMDJzBWdvcYuTEDXV63a9ZVrGnsjuhgyt5WmZyf1i')\n",
        "key1.address"
      ],
      "execution_count": null,
      "outputs": []
    },
    {
      "cell_type": "markdown",
      "metadata": {
        "id": "tyyHr0yOf8zW"
      },
      "source": [
        "# **python bit**"
      ]
    },
    {
      "cell_type": "code",
      "metadata": {
        "id": "uI4IkLtObSs9"
      },
      "source": [
        "!pip install bit"
      ],
      "execution_count": null,
      "outputs": []
    },
    {
      "cell_type": "code",
      "metadata": {
        "colab": {
          "base_uri": "https://localhost:8080/"
        },
        "id": "YQRAaLezbbG6",
        "outputId": "25f438f3-ce1f-475f-fa2f-003fe5452d7d"
      },
      "source": [
        "from bit import PrivateKey\n",
        "my_key = PrivateKey('5JuvHdhryHsaffo8BLRG1RBecRCZ2Jygtx5cNSiZoyk5Zcmhsdso')\n",
        "print(my_key.version)\n",
        "print(my_key.to_wif())\n",
        "print(my_key.address)\n"
      ],
      "execution_count": null,
      "outputs": [
        {
          "output_type": "stream",
          "text": [
            "main\n",
            "5JXvHQfGHxUffo8BLRG1RBecRCZ2Jygtx5cNSiZoyk5Zcmhsdso\n",
            "16ga2uqnF1NqpAuQeeg7sTCAdtDUwDyJav\n"
          ],
          "name": "stdout"
        }
      ]
    },
    {
      "cell_type": "code",
      "metadata": {
        "id": "kw6AxiyHblRf"
      },
      "source": [
        "my_key2 = PrivateKeyTestnet('cMktgt5NLsSayAnIZr973JXngYb5jFef5nrPfg4qH4N9MHXg5dAr1')\n",
        "print(my_key2.version)\n",
        "print(my_key2.to_wif())\n",
        "print(my_key2.address)\n"
      ],
      "execution_count": null,
      "outputs": []
    },
    {
      "cell_type": "code",
      "metadata": {
        "colab": {
          "base_uri": "https://localhost:8080/"
        },
        "id": "E1AqdEyEbubl",
        "outputId": "bf29ac7e-f405-4353-b04b-dc0e365b6a13"
      },
      "source": [
        "print(my_key.balance_as('usd'))\n",
        "print(my_key.get_balance())"
      ],
      "execution_count": null,
      "outputs": [
        {
          "output_type": "stream",
          "text": [
            "0\n",
            "0\n"
          ],
          "name": "stdout"
        }
      ]
    },
    {
      "cell_type": "code",
      "metadata": {
        "id": "nrOZSGccb4Wv"
      },
      "source": [
        "tx_hash = my_key.send([('1MukULLfShjXbCYKuAtTCWCJzEkhwwBhhY', 0.00000246, 'btc')])\n",
        "print(tx_hash)"
      ],
      "execution_count": null,
      "outputs": []
    },
    {
      "cell_type": "code",
      "metadata": {
        "id": "BFsF2kHrElLB"
      },
      "source": [
        "!pip install pycoin\n"
      ],
      "execution_count": null,
      "outputs": []
    },
    {
      "cell_type": "code",
      "metadata": {
        "id": "ov3no8b_Eqf0"
      },
      "source": [
        "import pycoin\n",
        "tx_in = TxIn(\"10010000001000101101110100011110111000010101010111101001011111010110110110000111011001010101010011011010010001010111101001100000001100010000110011010100010001011\", 0)\n",
        "script = standard_tx_out_script(\"1MukULLfShjXbCYKuAtTCWCJzEkhwwBhhY\")\n",
        "tx_out = TxOut(111, script)\n",
        "tx = Tx(1, [tx_in], [tx_out])\n",
        "lookup = \n",
        "tx.sign(lookup)\n",
        "print(tx.as_hex())"
      ],
      "execution_count": null,
      "outputs": []
    }
  ]
}