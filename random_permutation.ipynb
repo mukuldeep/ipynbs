{
  "nbformat": 4,
  "nbformat_minor": 0,
  "metadata": {
    "colab": {
      "provenance": []
    },
    "kernelspec": {
      "name": "python3",
      "display_name": "Python 3"
    },
    "language_info": {
      "name": "python"
    }
  },
  "cells": [
    {
      "cell_type": "code",
      "source": [
        "import random\n",
        "\n",
        "def random_perm(arrx):\n",
        "    arr = arrx.copy()\n",
        "    size = len(arr)\n",
        "    for i in range(size):\n",
        "        random_index = random.randint(0, size - 1)  # Generate a random index\n",
        "        arr[i], arr[random_index] = arr[random_index], arr[i]  # Swap current element with the randomly chosen index\n",
        "    return arr\n",
        "\n",
        "# generate random permutations\n",
        "def random_perm_n_itr(arr,n):\n",
        "  arr2 = arr.copy()\n",
        "  for i in range(n):\n",
        "    arr2 = random_perm(arr2)\n",
        "  return arr2"
      ],
      "metadata": {
        "id": "--TFmSpIay7P"
      },
      "execution_count": 15,
      "outputs": []
    },
    {
      "cell_type": "code",
      "execution_count": 21,
      "metadata": {
        "colab": {
          "base_uri": "https://localhost:8080/"
        },
        "id": "YzOHhENWaiLE",
        "outputId": "5b2240d7-3680-426d-b93b-abe9c06ebd14"
      },
      "outputs": [
        {
          "output_type": "stream",
          "name": "stdout",
          "text": [
            "['cat', 'dog', 'On', '42', '6', '342', 'web']\n",
            "\n",
            "['cat', 'On', '6', 'web', '342', '42', 'dog']\n",
            "['42', '342', 'cat', '6', 'dog', 'web', 'On']\n",
            "['cat', 'dog', 'web', 'On', '342', '6', '42']\n",
            "['342', '6', 'cat', 'dog', 'On', 'web', '42']\n",
            "['web', 'cat', 'dog', '42', '6', 'On', '342']\n",
            "['On', 'cat', '342', '6', 'web', '42', 'dog']\n",
            "['6', 'cat', 'web', 'On', '42', 'dog', '342']\n",
            "['342', 'dog', '6', 'On', 'cat', 'web', '42']\n",
            "['dog', 'On', 'cat', '342', '42', 'web', '6']\n",
            "['342', 'web', 'cat', 'On', '6', '42', 'dog']\n",
            "\n",
            "['cat', 'dog', 'On', '42', '6', '342', 'web']\n"
          ]
        }
      ],
      "source": [
        "#arr = [i for i in range(10)]\n",
        "arr = [\"cat\",\"dog\",\"On\",\"42\",\"6\",\"342\",\"web\"]\n",
        "print(arr)\n",
        "print()\n",
        "\n",
        "for i in range(10):\n",
        "  print(random_perm_n_itr(arr,3))\n",
        "\n",
        "print()\n",
        "print(arr)"
      ]
    }
  ]
}