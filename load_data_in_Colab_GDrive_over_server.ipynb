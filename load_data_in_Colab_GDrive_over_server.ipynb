{
  "cells": [
    {
      "cell_type": "code",
      "execution_count": null,
      "metadata": {
        "id": "4S1120Wo8hj5"
      },
      "outputs": [],
      "source": [
        "from google.colab import drive\n",
        "drive.mount('/content/gdrive')"
      ]
    },
    {
      "cell_type": "code",
      "execution_count": null,
      "metadata": {
        "colab": {
          "base_uri": "https://localhost:8080/",
          "height": 34
        },
        "id": "Et_PlcAIx10Y",
        "outputId": "f62caca5-0da6-448e-9c1b-c6e97dd8b9fb"
      },
      "outputs": [
        {
          "name": "stdout",
          "output_type": "stream",
          "text": [
            "612237928\n"
          ]
        }
      ],
      "source": [
        "import requests\n",
        "url=\"http://download.thinkbroadband.com/10MB.zip\"\n",
        "path = F\"/content/gdrive/My Drive/e_dn/10MB.ZIP\"\n",
        "r = requests.get(url)\n",
        "with open(path, 'wb') as f:\n",
        "    f.write(r.content)\n",
        "print(len(r.content))"
      ]
    },
    {
      "cell_type": "code",
      "execution_count": null,
      "metadata": {
        "id": "lEBE288fHR3v"
      },
      "outputs": [],
      "source": [
        "#auto saving fileame\n",
        "import requests\n",
        "import os\n",
        "from urllib.parse import urlparse\n",
        " \n",
        "url=\"http://download.thinkbroadband.com/10MB.zip\"\n",
        "a = urlparse(url)\n",
        "#print(a.path) \n",
        "f_name=os.path.basename(a.path)    \n",
        "print(\"saving to\"+f_name)\n",
        "path = F\"/content/gdrive/My Drive/\"+f_name\n",
        "#url = \"http://download.thinkbroadband.com/10MB.zip\"\n",
        "r = requests.get(url)#\n",
        "with open(path, 'wb') as f:\n",
        "    f.write(r.content)\n",
        "print(len(r.content))"
      ]
    },
    {
      "cell_type": "code",
      "execution_count": null,
      "metadata": {
        "id": "s6RgkHk58iy0"
      },
      "outputs": [],
      "source": [
        "!ls /content/gdrive/My%20Drive"
      ]
    },
    {
      "cell_type": "code",
      "execution_count": null,
      "metadata": {
        "id": "OHHyp-przwrj"
      },
      "outputs": [],
      "source": [
        "\n",
        "path = F\"/content/drive/My Drive/colab_data/flstudio.zip\"\n",
        "with open(path, 'wb') as f:\n",
        "    f.write(r.content)\n",
        "print(len(r.content))"
      ]
    },
    {
      "cell_type": "code",
      "execution_count": null,
      "metadata": {
        "id": "q9aYDuZRwpie"
      },
      "outputs": [],
      "source": [
        "from google.colab import drive\n",
        "drive.mount('/content/drive')"
      ]
    },
    {
      "cell_type": "code",
      "execution_count": null,
      "metadata": {
        "id": "eiWRJnbgyijw"
      },
      "outputs": [],
      "source": [
        "!pip install -U -q PyDrive"
      ]
    },
    {
      "cell_type": "code",
      "execution_count": null,
      "metadata": {
        "id": "-LJC5Pbvyp5i"
      },
      "outputs": [],
      "source": [
        "from pydrive.auth import GoogleAuth\n",
        "from pydrive.drive import GoogleDrive\n",
        "from google.colab import auth\n",
        "from oauth2client.client import GoogleCredentials\n",
        "\n",
        "model_file_name=\"flstudio.zip\"\n",
        "# Authenticate and create the PyDrive client.\n",
        "# This only needs to be done once in a notebook.\n",
        "auth.authenticate_user()\n",
        "gauth = GoogleAuth()\n",
        "gauth.credentials = GoogleCredentials.get_application_default()\n",
        "drive = GoogleDrive(gauth)\n",
        "\n",
        "# Create & upload a file.\n",
        "uploaded = drive.CreateFile({'title': model_file_name})\n",
        "uploaded.SetContentFile(model_file_name)\n",
        "uploaded.Upload()\n",
        "print('Uploaded file with ID {}'.format(uploaded.get('id')))"
      ]
    },
    {
      "cell_type": "code",
      "execution_count": null,
      "metadata": {
        "id": "-FnocoC8JxM7"
      },
      "outputs": [],
      "source": [
        "!pip install moviepy"
      ]
    },
    {
      "cell_type": "code",
      "execution_count": null,
      "metadata": {
        "id": "koz47DKzPKFx"
      },
      "outputs": [],
      "source": [
        "!pip install ImageMagick"
      ]
    },
    {
      "cell_type": "code",
      "execution_count": null,
      "metadata": {
        "id": "g6kMOqigKCT3"
      },
      "outputs": [],
      "source": [
        "from moviepy.editor import *\n",
        "\n",
        "video = VideoFileClip(\"ad4.mkv\").subclip(50,60)\n",
        "\n",
        "# Make the text. Many more options are available.\n",
        "txt_clip = ( TextClip(\"My Holidays 2013\",fontsize=70,color='white')\n",
        "             .set_position('center')\n",
        "             .set_duration(10) )\n",
        "\n",
        "result = CompositeVideoClip([video, txt_clip]) # Overlay text on video\n",
        "result.write_videofile(\"myHolidays_edited.webm\",fps=25) # Many options..."
      ]
    }
  ],
  "metadata": {
    "accelerator": "GPU",
    "colab": {
      "collapsed_sections": [],
      "name": "load data in Colab/GDrive over server.ipynb",
      "provenance": []
    },
    "kernelspec": {
      "display_name": "Python 3",
      "name": "python3"
    }
  },
  "nbformat": 4,
  "nbformat_minor": 0
}