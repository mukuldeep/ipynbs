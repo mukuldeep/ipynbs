{
  "nbformat": 4,
  "nbformat_minor": 0,
  "metadata": {
    "colab": {
      "name": "CA_lab.ipynb",
      "provenance": [],
      "collapsed_sections": []
    },
    "kernelspec": {
      "name": "python3",
      "display_name": "Python 3"
    }
  },
  "cells": [
    {
      "cell_type": "code",
      "metadata": {
        "id": "508rWDfNYKzz",
        "colab": {
          "base_uri": "https://localhost:8080/",
          "height": 403
        },
        "outputId": "41360be5-a9ea-4866-feca-c5d7f43c4899"
      },
      "source": [
        "#page replacement\n",
        "#fifo\n",
        "from queue import Queue\n",
        "pages=[0,4,6,2,6,3,4,2,3,4,1,2,7,0,9,4,5,6,7,8,7,3]\n",
        "capacity=4\n",
        "size=len(pages)\n",
        "#print(pages)\n",
        "fifo(pages,capacity,size)\n",
        "\n",
        "def fifo(pages,capacity,size):\n",
        "  s=set()\n",
        "  que=Queue()\n",
        "  print(pages)\n",
        "  for i in range(size):\n",
        "    #print(s)\n",
        "    print(\"current element is \",end=\"\")\n",
        "    print(pages[i],end=\" \")\n",
        "    if(len(s)<capacity):\n",
        "      #simply put the page in set and queue\n",
        "      if(pages[i] not in s):\n",
        "        #insert pages to s \n",
        "        s.add(pages[i])\n",
        "        que.put(pages[i])\n",
        "        print(s,end=\" \")\n",
        "        print(\" page fault\")\n",
        "      else:\n",
        "        print(s,end=\" \")\n",
        "        print(\" Hit\")\n",
        "    else:\n",
        "      #remove first and insert current\n",
        "      if(pages[i] not in s):\n",
        "        #remove\n",
        "        to_remove=que.queue[0]\n",
        "        que.get()\n",
        "        s.remove(to_remove)\n",
        "\n",
        "        #insert\n",
        "        s.add(pages[i])\n",
        "        que.put(pages[i])\n",
        "        print(s,end=\" \")\n",
        "        print(\"page fault\")\n",
        "      else:\n",
        "        print(s,end=\" \")\n",
        "        print(\" Hit\")\n",
        "        \n"
      ],
      "execution_count": null,
      "outputs": [
        {
          "output_type": "stream",
          "text": [
            "[0, 4, 6, 2, 6, 3, 4, 2, 3, 4, 1, 2, 7, 0, 9, 4, 5, 6, 7, 8, 7, 3]\n",
            "current element is 0 {0}  page fault\n",
            "current element is 4 {0, 4}  page fault\n",
            "current element is 6 {0, 4, 6}  page fault\n",
            "current element is 2 {0, 2, 4, 6}  page fault\n",
            "current element is 6 {0, 2, 4, 6}  Hit\n",
            "current element is 3 {2, 3, 4, 6} page fault\n",
            "current element is 4 {2, 3, 4, 6}  Hit\n",
            "current element is 2 {2, 3, 4, 6}  Hit\n",
            "current element is 3 {2, 3, 4, 6}  Hit\n",
            "current element is 4 {2, 3, 4, 6}  Hit\n",
            "current element is 1 {1, 2, 3, 6} page fault\n",
            "current element is 2 {1, 2, 3, 6}  Hit\n",
            "current element is 7 {1, 2, 3, 7} page fault\n",
            "current element is 0 {0, 1, 3, 7} page fault\n",
            "current element is 9 {0, 1, 7, 9} page fault\n",
            "current element is 4 {0, 4, 7, 9} page fault\n",
            "current element is 5 {0, 4, 5, 9} page fault\n",
            "current element is 6 {4, 5, 6, 9} page fault\n",
            "current element is 7 {4, 5, 6, 7} page fault\n",
            "current element is 8 {5, 6, 7, 8} page fault\n",
            "current element is 7 {5, 6, 7, 8}  Hit\n",
            "current element is 3 {3, 6, 7, 8} page fault\n"
          ],
          "name": "stdout"
        }
      ]
    },
    {
      "cell_type": "code",
      "metadata": {
        "id": "nYPTwPN2d0zG"
      },
      "source": [
        "lru(pages,capacity,size):\n",
        "def lru(pages,capacity,size):\n",
        "  s=set()\n",
        "  que=Queue()\n",
        "  print(pages)\n",
        "  for i in range(size):\n",
        "    #print(s)\n",
        "    print(\"current element is \",end=\"\")\n",
        "    print(pages[i],end=\" \")\n",
        "    if(len(s)<capacity):\n",
        "      #simply put the page in set and queue\n",
        "      if(pages[i] not in s):\n",
        "        #insert pages to s \n",
        "        s.add(pages[i])\n",
        "        que.put(pages[i])\n",
        "        print(s,end=\" \")\n",
        "        print(\" page fault\")\n",
        "      else:\n",
        "        \n",
        "        print(s,end=\" \")\n",
        "        print(\" Hit\")\n",
        "    else:\n",
        "      #remove first and insert current\n",
        "      if(pages[i] not in s):\n",
        "        #remove\n",
        "        to_remove=que.queue[0]\n",
        "        que.get()\n",
        "        s.remove(to_remove)\n",
        "\n",
        "        #insert\n",
        "        s.add(pages[i])\n",
        "        que.put(pages[i])\n",
        "        print(s,end=\" \")\n",
        "        print(\"page fault\")\n",
        "      else:\n",
        "        print(s,end=\" \")\n",
        "        print(\" Hit\")\n",
        "        \n"
      ],
      "execution_count": null,
      "outputs": []
    }
  ]
}